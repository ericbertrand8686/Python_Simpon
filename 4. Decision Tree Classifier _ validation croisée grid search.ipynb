{
 "cells": [
  {
   "cell_type": "markdown",
   "metadata": {},
   "source": [
    "## Arbres de décision"
   ]
  },
  {
   "cell_type": "markdown",
   "metadata": {},
   "source": [
    "---"
   ]
  },
  {
   "cell_type": "markdown",
   "metadata": {},
   "source": [
    "### Application : prédire le type d'iris <a class=\"anchor\" id=\"boston\"></a>"
   ]
  },
  {
   "cell_type": "markdown",
   "metadata": {},
   "source": [
    "#### Jeu de données \n",
    "Charger le jeu de données Iris</a> de sklearn <br>\n",
    "Tips : \n",
    "* Utiliser la fonction *load_iris()* du package *sklearn.datasets*. Le résultat est affecté à la variable *dataset*\n",
    "* Afficher la description du jeu de données en utilisant l'attribut *DESCR* du dictionnaire data. \n",
    "* Transformer le *dataset* à un DataFrame, *df*, en utilisant *pandas* et les attributs *data* et *feature_names* du dictionnaire *data*\n",
    "* Créer une variable $X$ qui représente les variables explicatives. \n",
    "* Créer une variable $y$ qui contient la variable expliquée (target)"
   ]
  },
  {
   "cell_type": "code",
   "execution_count": 3,
   "metadata": {},
   "outputs": [],
   "source": [
    "import numpy as np \n",
    "import matplotlib.pyplot as plt \n",
    "import pandas as pd "
   ]
  },
  {
   "cell_type": "code",
   "execution_count": 4,
   "metadata": {
    "scrolled": true
   },
   "outputs": [],
   "source": [
    "from sklearn import datasets\n",
    "\n",
    "# chargement du jeu de données  \n",
    "dataset = datasets.load_iris()\n",
    "# variables dépendantes (features)\n",
    "X = dataset.data\n",
    "y = dataset.target"
   ]
  },
  {
   "cell_type": "markdown",
   "metadata": {},
   "source": [
    "#### Données d'entraînement et de test\n",
    "**Question :** <br>\n",
    "Quel est l'avantage de diviser le jeu de données en données d'apprentissage et des données de test ? "
   ]
  },
  {
   "cell_type": "markdown",
   "metadata": {},
   "source": [
    "* Pour répondre à un problème métier, en général, on teste plusieurs modèles qui y répondre. \n",
    "* On a donc besoin d'un moyen pour choisir le meilleur modèle. \n",
    "* Notre objectif est d'étudier les performances des modèles sur de nouvelles données, hors des données échantillon. \n",
    "* Première solution : entraîner et tester le modèle avec le même jeu de données en divisant le jeu de données en données d'apprentissage (train dataset) et données de test (test dataset)"
   ]
  },
  {
   "cell_type": "markdown",
   "metadata": {},
   "source": [
    "**Question :**<br>\n",
    "Diviser le jeu de données en jeu de données d'entraînement (80%) et de test (20%) en utilisant la fonction *train_test_split* du package *sklearn.model_selection* \n",
    "* paramètres : random_state = 42\n"
   ]
  },
  {
   "cell_type": "code",
   "execution_count": 7,
   "metadata": {},
   "outputs": [],
   "source": [
    "# importer la méthode train_test_split \n",
    "from sklearn.model_selection import train_test_split\n",
    "X_train, X_test, y_train, y_test = train_test_split(X, y, test_size=0.2, random_state=42)"
   ]
  },
  {
   "cell_type": "markdown",
   "metadata": {},
   "source": [
    "**Question :** <br>\n",
    "Quelle est la limite de la métode train_test_split sur la précision ? comment pallier à cette limite ? <br>\n",
    "**Tips :** <a href=\"https://scikit-learn.org/stable/modules/generated/sklearn.model_selection.KFold.html#sklearn.model_selection.KFold\">K-Folds cross-validation</a>, <a href=\"https://scikit-learn.org/stable/modules/grid_search.html#exhaustive-grid-search\">Grid Search</a> <br>\n",
    "\n",
    "**Ressources**\n",
    "* <a href=\"https://scikit-learn.org/stable/modules/cross_validation.html?highlight=cross_validation\">Cross-validation scikit learn</a>\n",
    "* <a href=\"https://towardsdatascience.com/cross-validation-explained-evaluating-estimator-performance-e51e5430ff85\">Cross Validation Explained: Evaluating estimator performance.</a>\n",
    "* <a href=\"http://www.xavierdupre.fr/app/papierstat/helpsphinx/notebooks/wines_knn_cross_val.html\">Validation croisée</a>\n"
   ]
  },
  {
   "cell_type": "markdown",
   "metadata": {},
   "source": [
    "La validation croisée, ou cross validation, est une procédure d’échantillonnage utilisée pour évaluer les modèles d’apprentissage automatique sur un échantillon de données limité. \n",
    "Cette procédure est également appelée k-fold cross-validation où k fait référence au nombre de groupes dans lesquels un set de données doit être divisé. \n",
    "La validation croisée est principalement utilisée en apprentissage automatique pour estimer la performance d’un modèle sur des données « invisibles ». En effet, la méthode utilise un échantillon limité afin d’estimer comment le modèle devrait fonctionner en général lorsqu’il est utilisé pour faire des prédictions sur des données non utilisées pendant la phase d’apprentissage. \n",
    "Cette méthode est largement utilisée vu qu’elle est simple à comprendre et qu’elle aboutit généralement à une estimation non biaisée des performances des modèles contrairement à une simple répartition jeu d’apprentissage et jeu de test. <br>\n",
    "La procédure générale de la validation croisée est comme suit : \n",
    "1.\tMélanger le jeu de données aléatoirement.\n",
    "2.\tDiviser le jeu de données en k groupes.\n",
    "3.\tPour chaque groupe :\n",
    "    * Considérer ce groupe comme jeu de test.\n",
    "    * Considérer les autres groupes comme un jeu d’apprentissage.\n",
    "    * Entrainer le modèle sur le jeu d’apprentissage et l’évaluer avec le jeu de test. \n",
    "    * Garder en mémoire le score d’évaluation \n",
    "4.\tRésumer les performances du modèle\n",
    "Il est important de noter que pour chaque observation de l’échantillon de données est affectée à un groupe individuel et reste dans ce groupe pendant la durée de la procédure. Cela signifie que chaque échantillon a la possibilité d’être utilisé dans le jeu de test une fois et k-1 fois dans le jeu d’entraînement. <br>\n",
    "Les résultats d’un k-fold cross-validation sont souvent résumés avec la moyenne des scores des performances du modèle. Il est recommandé d’inclure une mesure de la variance comme l’écart-type. <br>\n",
    "Le choix de la valeur de k est primordial. Une valeur mal choisie peut entrainer une idée erronée sur les performances du modèle comme par exemple un score avec une variance élevée ou encore une surestimation des performances. <br>\n",
    "Pour choisir la valeur de k trois stratégies sont communément utilisées : \n",
    "* Une valeur représentative : la valeur de k est choisie de telle sorte que chaque jeu d’entrainement et de test soit suffisamment grand pour être statistiquement représentatif de l’ensemble des données. \n",
    "* k=10 : La valeur de k est fixée à 10. Il s’agit d’une valeur qui a été trouvée pas l’expérimentation pour aboutir généralement à une bonne estimation des performances du modèle avec un biais faible et une petite variance. \n",
    "* k=n : la valeur de k est fixée à n, où n est la taille de l’ensemble du jeu de donnée pour donner à chaque échantillon d’être utilisé dans le jeu de test. Cette approche est appelée **leave-one-out- cross-validation**. \n",
    "\n",
    "\n"
   ]
  },
  {
   "cell_type": "markdown",
   "metadata": {},
   "source": [
    "#### Modèle | DecisionTreeClassifier\n",
    "Utiliser la classe *DecisionTreeClassifier* du package *sklearn.tree* pour créer l'objet *classifier*<br>\n",
    "Utiliser les paramètres par défaut."
   ]
  },
  {
   "cell_type": "code",
   "execution_count": 9,
   "metadata": {},
   "outputs": [],
   "source": [
    "# importer la classe DecisionTreeClassifier\n",
    "from sklearn.tree import DecisionTreeClassifier\n",
    "classifier = DecisionTreeClassifier()"
   ]
  },
  {
   "cell_type": "markdown",
   "metadata": {},
   "source": [
    "**Question :** Quels sont les paramètres de la classe *DecisionTreeClassifier* qui influencent la performance de l'algorithme ?  <br>\n",
    "**Ressources** <br>\n",
    "<a href=\"https://scikit-learn.org/stable/modules/generated/sklearn.tree.DecisionTreeClassifier.html?highlight=decisiontreeclassfier#sklearn.tree.DecisionTreeClassifier\">DecisionTreeClassifier</a> <br>\n",
    "<a href=\"https://medium.com/@mohtedibf/indepth-parameter-tuning-for-decision-tree-6753118a03c3\">InDepth : Parameter tuning for Decision Tree (classification)</a>"
   ]
  },
  {
   "cell_type": "markdown",
   "metadata": {},
   "source": [
    "Les paramètres à optimiser pour un arbre de décision optimal sont les suivants : \n",
    "* **max_depth** : indique la profondeur de l'arbre. La profondeur détermine le nombre de feuilles (nombre de valeurs possibles).<br> Plus l'arbre est profond, plus il est divisé, plus il apprend des données. \n",
    "* **min_samples_split** : chaque feuille d'un arbre prédit une valeur calculée à partir d'un ensemble d'observations. Ce nombre ne peut pas être inférieur à la valeur de ce paramètre. <br> Ce paramètre est utilisé pour limiter le surapprentissage en augmentant la représentativité de chaque feuille. \n",
    "* **min_samples_leaf** : indique le nombre minimum d'observations requises pour être au niveau d'un noeud feuille. Plus la valeur est grande, plus on risque d'avoir un problème de sous-apprentissage. \n",
    "* **max_feautures** : représente le nombre de features à prendre en considération lors de la recherche de la meilleure découpe (split). "
   ]
  },
  {
   "cell_type": "markdown",
   "metadata": {},
   "source": [
    "**Question :** <br>\n",
    "Créer les deux sous-ensemble de données d'apprentissage et de test en utilisant la technique de validation croisée. <br>\n",
    "Stocker le résultat dans la variable *cv_sets*. <br>\n",
    "Utiliser les paramètres suivants :\n",
    "* $n\\_splits$ = $10$\n",
    "* $shuffle$ = $True$ \n",
    "* $random\\_state$ = $42$ <br>\n",
    "Tips : Utiliser la classe <a href=\"https://scikit-learn.org/stable/modules/generated/sklearn.model_selection.KFold.html?highlight=kfold#sklearn.model_selection.KFold\">*KFold*</a> du package *sklearn.model-selection*"
   ]
  },
  {
   "cell_type": "code",
   "execution_count": 10,
   "metadata": {},
   "outputs": [],
   "source": [
    "from sklearn.model_selection import KFold\n",
    "cv_sets = KFold(n_splits=10, shuffle=True, random_state=42)"
   ]
  },
  {
   "cell_type": "markdown",
   "metadata": {},
   "source": [
    "**NB** : Dans ce qui suit, on se focalisera sur le premier paramètre, à savoir, **max_depth**. Le même raisonnement peut être appliqué à chacun des paramètres ou à une combinaison de paramètres. "
   ]
  },
  {
   "cell_type": "markdown",
   "metadata": {},
   "source": [
    "#### Entraînement de l'arbre de décision "
   ]
  },
  {
   "cell_type": "markdown",
   "metadata": {},
   "source": [
    "##### Optimisation du paramètre max_depth\n",
    "Pour trouver la valeur du paramètre max_depth qui donne le meilleur estimateur (meilleur arbre de régression), on utilise la classe <a href=\"https://scikit-learn.org/stable/modules/generated/sklearn.model_selection.GridSearchCV.html?highlight=gridsearchcv#sklearn.model_selection.GridSearchCV\">GridSearchCV</a>. <br>\n",
    "Pour cela, il faut suivre les étapes suivantes !"
   ]
  },
  {
   "cell_type": "markdown",
   "metadata": {},
   "source": [
    "**Question** : Créer un dictionnaire pour *max_depth* avec les valeurs de 1 à 10. <br>\n",
    "Affecter-le à la variable *params*"
   ]
  },
  {
   "cell_type": "code",
   "execution_count": 11,
   "metadata": {},
   "outputs": [],
   "source": [
    "params = dict(max_depth=range(1,10))"
   ]
  },
  {
   "cell_type": "code",
   "execution_count": 15,
   "metadata": {},
   "outputs": [],
   "source": [
    "from sklearn.model_selection import GridSearchCV\n",
    "grid_cv = GridSearchCV(classifier, params, cv=cv_sets, scoring='accuracy')"
   ]
  },
  {
   "cell_type": "markdown",
   "metadata": {},
   "source": [
    "**Question** : Entraîner le méta estimateur grid_cv pour trouver l'estimateur optimal en utilisant la méthode *fit*. <br>"
   ]
  },
  {
   "cell_type": "code",
   "execution_count": 16,
   "metadata": {},
   "outputs": [
    {
     "data": {
      "text/plain": [
       "GridSearchCV(cv=KFold(n_splits=10, random_state=42, shuffle=True),\n",
       "             estimator=DecisionTreeClassifier(),\n",
       "             param_grid={'max_depth': range(1, 10)}, scoring='accuracy')"
      ]
     },
     "execution_count": 16,
     "metadata": {},
     "output_type": "execute_result"
    }
   ],
   "source": [
    "grid_cv.fit(X_train,y_train)"
   ]
  },
  {
   "cell_type": "markdown",
   "metadata": {},
   "source": [
    "**Question** : <br>\n",
    "Quel est le meilleur modèle ? <br>\n",
    "Stocker le meilleur modèle dans la variable *best_tree*<br>\n",
    "**Tips** : Utiliser l'attribut *best_estimator_*"
   ]
  },
  {
   "cell_type": "code",
   "execution_count": 17,
   "metadata": {},
   "outputs": [
    {
     "data": {
      "text/plain": [
       "DecisionTreeClassifier(max_depth=2)"
      ]
     },
     "execution_count": 17,
     "metadata": {},
     "output_type": "execute_result"
    }
   ],
   "source": [
    "best_tree = grid_cv.best_estimator_\n",
    "best_tree"
   ]
  },
  {
   "cell_type": "markdown",
   "metadata": {},
   "source": [
    "**Question** : <br>\n",
    "Quelle est la profondeur maximale (*max_depth*) du modèle optimal (best_tree) ? <br>\n",
    "**Tips** : Utiliser l'attribut *best_params_* de la classe *GridSearchCV*"
   ]
  },
  {
   "cell_type": "code",
   "execution_count": 18,
   "metadata": {},
   "outputs": [
    {
     "data": {
      "text/plain": [
       "{'max_depth': 2}"
      ]
     },
     "execution_count": 18,
     "metadata": {},
     "output_type": "execute_result"
    }
   ],
   "source": [
    "best_params = grid_cv.best_params_\n",
    "best_params"
   ]
  },
  {
   "cell_type": "code",
   "execution_count": 22,
   "metadata": {
    "scrolled": true
   },
   "outputs": [],
   "source": [
    "y_pred=best_tree.predict(X_test)"
   ]
  },
  {
   "cell_type": "markdown",
   "metadata": {},
   "source": [
    "##### Courbe d'apprentissage"
   ]
  },
  {
   "cell_type": "markdown",
   "metadata": {},
   "source": [
    "**Question** : <br>\n",
    "Qu'est ce que la courbre d'apprentissage ? <br>\n",
    "**Ressource** : <a href=\"https://fr.qaz.wiki/wiki/Learning_curve_(machine_learning)\">Courbe d'apprentissage</a>"
   ]
  },
  {
   "cell_type": "markdown",
   "metadata": {},
   "source": [
    "* Une courbe d'apprentissage trace la valeur optimale de la fonction de perte d'un modèle pour un ensemble d'apprentissage par rapport à cette fonction de perte évaluée sur un ensemble de données de validation avec les mêmes paramètres que la fonction optimale produite. \n",
    "* C'est un outil qui permet de déterminer à quel point un modèle de ML profite de l'ajout de données d'apprentissage supplémentaires et si l'estimateur souffre d'une erreur de variance ou d'une erreur de biais. \n",
    "* Si le score de validation et le score d'entraînement convergent vers une valeur trop faible avec l'augmentation de la taille de l'ensemble d'apprentissage, il ne bénéficiera pas beaucoup de plus de données d'entraînement.\n",
    "* Deux utilisations des courbes d'apprentissage différant sur l'axe des x des courbes, l'expérience du modèle étant représentée graphiquement soit par \n",
    "    * le nombre d'exemples d'entraînement utilisés pour l'apprentissage, \n",
    "    * le nombre d'itérations utilisées dans l'apprentissage du modèle. "
   ]
  },
  {
   "cell_type": "code",
   "execution_count": 24,
   "metadata": {},
   "outputs": [
    {
     "data": {
      "image/png": "[encoded data removed]",
      "text/plain": [
       "<Figure size 576x432 with 1 Axes>"
      ]
     },
     "metadata": {
      "needs_background": "light"
     },
     "output_type": "display_data"
    }
   ],
   "source": [
    "\n",
    "import scikitplot as skplt\n",
    "skplt.estimators.plot_learning_curve(classifier, X_train, y_train, figsize=(8,6))   \n",
    "plt.title('Learning Curve')\n",
    "plt.show()"
   ]
  },
  {
   "cell_type": "markdown",
   "metadata": {},
   "source": [
    "### Pour aller plus loin : <a class=\"anchor\" id=\"post_pruning\"></a>\n",
    "<a href=\"https://scikit-learn.org/stable/auto_examples/tree/plot_cost_complexity_pruning.html#sphx-glr-auto-examples-tree-plot-cost-complexity-pruning-py\">Post élagage avec scikit learn | Exemple </a>"
   ]
  },
  {
   "cell_type": "code",
   "execution_count": null,
   "metadata": {},
   "outputs": [],
   "source": []
  }
 ],
 "metadata": {
  "kernelspec": {
   "display_name": "Python 3",
   "language": "python",
   "name": "python3"
  },
  "language_info": {
   "codemirror_mode": {
    "name": "ipython",
    "version": 3
   },
   "file_extension": ".py",
   "mimetype": "text/x-python",
   "name": "python",
   "nbconvert_exporter": "python",
   "pygments_lexer": "ipython3",
   "version": "3.8.8"
  },
  "latex_envs": {
   "LaTeX_envs_menu_present": true,
   "autoclose": false,
   "autocomplete": true,
   "bibliofile": "biblio.bib",
   "cite_by": "apalike",
   "current_citInitial": 1,
   "eqLabelWithNumbers": true,
   "eqNumInitial": 1,
   "hotkeys": {
    "equation": "Ctrl-E",
    "itemize": "Ctrl-I"
   },
   "labels_anchors": false,
   "latex_user_defs": false,
   "report_style_numbering": false,
   "user_envs_cfg": false
  }
 },
 "nbformat": 4,
 "nbformat_minor": 4
}
